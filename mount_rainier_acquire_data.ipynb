{
 "cells": [
  {
   "cell_type": "code",
   "execution_count": 2,
   "metadata": {},
   "outputs": [],
   "source": [
    "import pandas as pd\n",
    "import datetime\n",
    "from datetime import datetime\n",
    "import warnings\n",
    "warnings.filterwarnings('ignore')"
   ]
  },
  {
   "cell_type": "code",
   "execution_count": 4,
   "metadata": {},
   "outputs": [
    {
     "data": {
      "text/plain": [
       "['01_January_2015.csv',\n",
       " '02_February_2015.csv',\n",
       " '03_March_2015.csv',\n",
       " '04_April_2015.csv',\n",
       " '05_May_2015.csv',\n",
       " '06_June_2015.csv',\n",
       " '07_July_2015.csv',\n",
       " '08_August_2015.csv',\n",
       " '09_September_2015.csv',\n",
       " '10_October_2015.csv',\n",
       " '11_November_2015.csv']"
      ]
     },
     "execution_count": 4,
     "metadata": {},
     "output_type": "execute_result"
    }
   ],
   "source": [
    "file_path_list=[\n",
    "'01_January_2015.csv',\n",
    "'02_February_2015.csv',\n",
    "'03_March_2015.csv',\n",
    "'04_April_2015.csv',\n",
    "'05_May_2015.csv',\n",
    "'06_June_2015.csv',\n",
    "'07_July_2015.csv',\n",
    "'08_August_2015.csv',\n",
    "'09_September_2015.csv',\n",
    "'10_October_2015.csv',\n",
    "'11_November_2015.csv']\n",
    "\n",
    "file_path_list"
   ]
  },
  {
   "cell_type": "code",
   "execution_count": 15,
   "metadata": {},
   "outputs": [],
   "source": [
    "months=range(1,13)"
   ]
  },
  {
   "cell_type": "code",
   "execution_count": 63,
   "metadata": {},
   "outputs": [
    {
     "name": "stdout",
     "output_type": "stream",
     "text": [
      "01_January_2015.csv\n"
     ]
    }
   ],
   "source": [
    "calendar_days=[]\n",
    "\n",
    "m=1\n",
    "year=2015\n",
    "        \n",
    "if m <10:\n",
    "    [calendar_days.append(f'Weatherlog {year}{m}{i}') \n",
    "    if i < 10 \n",
    "    else calendar_days.append(f'Weatherlog {year}{m}{i}') \n",
    "    for i in range(1,32)]\n",
    "else:\n",
    "    [calendar_days.append(f'Weatherlog {year}{m}{i}') \n",
    "    if i < 10 \n",
    "    else calendar_days.append(f'Weatherlog {year}{m}{i}') \n",
    "    for i in range(1,32)]\n",
    "     \n",
    "    \n",
    "    \n",
    "# The first two tables in the csv files are \"Foods\" and 'Activities'.\n",
    "# Add these names to the calendar_days list to create a list of the table_names\n",
    "table_names=[\"Attempts\", \"climbing routes\"]+calendar_days\n",
    "    \n",
    "#Read in csv file, from looking at the raw file we see that the biggest table is 10 columns\n",
    "df=pd.read_csv('01_January_2015.csv', header=None, names=range(6))\n",
    "    \n",
    "# group the data frame by their table names\n",
    "groups = df[0].isin(table_names).cumsum()\n",
    "    \n",
    "#create the tables with the key as the table_name and values are the rows below the name\n",
    "tables = {v.iloc[0,0]: v.iloc[1:] for k,v in df.groupby(groups)}\n",
    "print('01_January_2015.csv')\n",
    "    \n",
    "    \n",
    "    # return a dictionary of dataframes that contain the tables from the csv file    "
   ]
  },
  {
   "cell_type": "code",
   "execution_count": 64,
   "metadata": {},
   "outputs": [],
   "source": [
    "df=pd.read_csv('01_January_2015.csv', header=None, names=range(6))"
   ]
  },
  {
   "cell_type": "code",
   "execution_count": 72,
   "metadata": {},
   "outputs": [
    {
     "data": {
      "text/plain": [
       "<pandas.core.groupby.generic.DataFrameGroupBy object at 0x7fe07fbf0780>"
      ]
     },
     "execution_count": 72,
     "metadata": {},
     "output_type": "execute_result"
    }
   ],
   "source": [
    "df.groupby(df[0].isin(table_names).cumsum())"
   ]
  },
  {
   "cell_type": "code",
   "execution_count": 85,
   "metadata": {},
   "outputs": [
    {
     "data": {
      "text/plain": [
       "<pandas.core.groupby.generic.DataFrameGroupBy object at 0x7fe0800e6ef0>"
      ]
     },
     "execution_count": 85,
     "metadata": {},
     "output_type": "execute_result"
    }
   ],
   "source": [
    "df.groupby(groups)"
   ]
  },
  {
   "cell_type": "code",
   "execution_count": 35,
   "metadata": {
    "scrolled": true
   },
   "outputs": [
    {
     "data": {
      "text/plain": [
       "dict_keys(['Attempts', 'climbing routes', 'Weatherlog 2015131', 'Weatherlog 2015130', 'Weatherlog 2015129', 'Weatherlog 2015128', 'Weatherlog 2015127', 'Weatherlog 2015126', 'Weatherlog 2015125', 'Weatherlog 2015124', 'Weatherlog 2015123', 'Weatherlog 2015122', 'Weatherlog 2015121', 'Weatherlog 2015120', 'Weatherlog 2015119', 'Weatherlog 2015118', 'Weatherlog 2015117', 'Weatherlog 2015116', 'Weatherlog 2015115', 'Weatherlog 2015114', 'Weatherlog 2015113', 'Weatherlog 2015112', 'Weatherlog 2015111', 'Weatherlog 2015110', 'Weatherlog 201519', 'Weatherlog 201518', 'Weatherlog 201517', 'Weatherlog 201516', 'Weatherlog 201515', 'Weatherlog 201514', 'Weatherlog 201513', 'Weatherlog 201512', 'Weatherlog 201511'])"
      ]
     },
     "execution_count": 35,
     "metadata": {},
     "output_type": "execute_result"
    }
   ],
   "source": [
    "tables.keys()"
   ]
  },
  {
   "cell_type": "code",
   "execution_count": 25,
   "metadata": {},
   "outputs": [
    {
     "data": {
      "text/html": [
       "<div>\n",
       "<style scoped>\n",
       "    .dataframe tbody tr th:only-of-type {\n",
       "        vertical-align: middle;\n",
       "    }\n",
       "\n",
       "    .dataframe tbody tr th {\n",
       "        vertical-align: top;\n",
       "    }\n",
       "\n",
       "    .dataframe thead th {\n",
       "        text-align: right;\n",
       "    }\n",
       "</style>\n",
       "<table border=\"1\" class=\"dataframe\">\n",
       "  <thead>\n",
       "    <tr style=\"text-align: right;\">\n",
       "      <th></th>\n",
       "      <th>0</th>\n",
       "      <th>1</th>\n",
       "      <th>2</th>\n",
       "      <th>3</th>\n",
       "      <th>4</th>\n",
       "      <th>5</th>\n",
       "    </tr>\n",
       "  </thead>\n",
       "  <tbody>\n",
       "    <tr>\n",
       "      <th>25</th>\n",
       "      <td>Route</td>\n",
       "      <td>Attempted</td>\n",
       "      <td>Succeeded</td>\n",
       "      <td>Success Percentage</td>\n",
       "      <td>NaN</td>\n",
       "      <td>NaN</td>\n",
       "    </tr>\n",
       "    <tr>\n",
       "      <th>26</th>\n",
       "      <td>Gibralter Ledges</td>\n",
       "      <td>3</td>\n",
       "      <td>0</td>\n",
       "      <td>0.0</td>\n",
       "      <td>NaN</td>\n",
       "      <td>NaN</td>\n",
       "    </tr>\n",
       "    <tr>\n",
       "      <th>27</th>\n",
       "      <td>Totals</td>\n",
       "      <td>NaN</td>\n",
       "      <td>NaN</td>\n",
       "      <td>NaN</td>\n",
       "      <td>NaN</td>\n",
       "      <td>NaN</td>\n",
       "    </tr>\n",
       "    <tr>\n",
       "      <th>28</th>\n",
       "      <td>NaN</td>\n",
       "      <td>Battery Voltage AVG</td>\n",
       "      <td>13.56541667</td>\n",
       "      <td>NaN</td>\n",
       "      <td>NaN</td>\n",
       "      <td>NaN</td>\n",
       "    </tr>\n",
       "    <tr>\n",
       "      <th>29</th>\n",
       "      <td>NaN</td>\n",
       "      <td>Temperature AVG</td>\n",
       "      <td>28.02</td>\n",
       "      <td>NaN</td>\n",
       "      <td>NaN</td>\n",
       "      <td>NaN</td>\n",
       "    </tr>\n",
       "    <tr>\n",
       "      <th>30</th>\n",
       "      <td>NaN</td>\n",
       "      <td>Relative Humidity AVG</td>\n",
       "      <td>27.65333333</td>\n",
       "      <td>NaN</td>\n",
       "      <td>NaN</td>\n",
       "      <td>NaN</td>\n",
       "    </tr>\n",
       "    <tr>\n",
       "      <th>31</th>\n",
       "      <td>NaN</td>\n",
       "      <td>Wind Speed Daily AVG</td>\n",
       "      <td>10.29258333</td>\n",
       "      <td>NaN</td>\n",
       "      <td>NaN</td>\n",
       "      <td>NaN</td>\n",
       "    </tr>\n",
       "    <tr>\n",
       "      <th>32</th>\n",
       "      <td>NaN</td>\n",
       "      <td>Wind Direction AVG</td>\n",
       "      <td>212.0725417</td>\n",
       "      <td>NaN</td>\n",
       "      <td>NaN</td>\n",
       "      <td>NaN</td>\n",
       "    </tr>\n",
       "    <tr>\n",
       "      <th>33</th>\n",
       "      <td>NaN</td>\n",
       "      <td>Solare Radiation AVG</td>\n",
       "      <td>0.0</td>\n",
       "      <td>NaN</td>\n",
       "      <td>NaN</td>\n",
       "      <td>NaN</td>\n",
       "    </tr>\n",
       "  </tbody>\n",
       "</table>\n",
       "</div>"
      ],
      "text/plain": [
       "                   0                      1            2                   3  \\\n",
       "25             Route              Attempted    Succeeded  Success Percentage   \n",
       "26  Gibralter Ledges                      3            0                 0.0   \n",
       "27            Totals                    NaN          NaN                 NaN   \n",
       "28               NaN    Battery Voltage AVG  13.56541667                 NaN   \n",
       "29               NaN        Temperature AVG        28.02                 NaN   \n",
       "30               NaN  Relative Humidity AVG  27.65333333                 NaN   \n",
       "31               NaN   Wind Speed Daily AVG  10.29258333                 NaN   \n",
       "32               NaN     Wind Direction AVG  212.0725417                 NaN   \n",
       "33               NaN   Solare Radiation AVG          0.0                 NaN   \n",
       "\n",
       "      4   5  \n",
       "25  NaN NaN  \n",
       "26  NaN NaN  \n",
       "27  NaN NaN  \n",
       "28  NaN NaN  \n",
       "29  NaN NaN  \n",
       "30  NaN NaN  \n",
       "31  NaN NaN  \n",
       "32  NaN NaN  \n",
       "33  NaN NaN  "
      ]
     },
     "execution_count": 25,
     "metadata": {},
     "output_type": "execute_result"
    }
   ],
   "source": [
    "tables['Weatherlog 2015131']"
   ]
  },
  {
   "cell_type": "code",
   "execution_count": null,
   "metadata": {},
   "outputs": [],
   "source": []
  }
 ],
 "metadata": {
  "kernelspec": {
   "display_name": "Python 3",
   "language": "python",
   "name": "python3"
  },
  "language_info": {
   "codemirror_mode": {
    "name": "ipython",
    "version": 3
   },
   "file_extension": ".py",
   "mimetype": "text/x-python",
   "name": "python",
   "nbconvert_exporter": "python",
   "pygments_lexer": "ipython3",
   "version": "3.7.3"
  }
 },
 "nbformat": 4,
 "nbformat_minor": 2
}
